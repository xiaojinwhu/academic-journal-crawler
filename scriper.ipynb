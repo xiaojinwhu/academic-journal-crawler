{
 "cells": [
  {
   "cell_type": "code",
   "execution_count": 18,
   "metadata": {},
   "outputs": [],
   "source": [
    "# -*- coding: utf-8 -*-\n",
    "from selenium import webdriver\n",
    "from selenium.webdriver.common.keys import Keys\n",
    "import requests\n",
    "from bs4 import BeautifulSoup\n",
    "import re\n",
    "import pandas as pd\n",
    "from datetime import datetime"
   ]
  },
  {
   "cell_type": "code",
   "execution_count": 19,
   "metadata": {
    "collapsed": true
   },
   "outputs": [],
   "source": [
    "import pymysql as ps\n",
    "db = ps.connect(\"10.10.172.41\",\"xj\",\"xj3d\",\"dspdw_dev\",charset='utf8' )"
   ]
  },
  {
   "cell_type": "code",
   "execution_count": 20,
   "metadata": {},
   "outputs": [
    {
     "name": "stdout",
     "output_type": "stream",
     "text": [
      "2017-09-06 16:52:23.815654\n"
     ]
    }
   ],
   "source": [
    "now = datetime.now()\n",
    "print(now)"
   ]
  },
  {
   "cell_type": "code",
   "execution_count": 29,
   "metadata": {},
   "outputs": [
    {
     "name": "stdout",
     "output_type": "stream",
     "text": [
      "[[1, datetime.datetime(2017, 9, 6, 16, 52, 23, 815654), 'sys', 0, 1, 'Characterization of BRCA1 and BRCA2 splicing variants: a collaborative report by ENIGMA consortium members', 'null', 'null'], [2, datetime.datetime(2017, 9, 6, 16, 52, 23, 815654), 'sys', 0, 1, 'Intronic variants in BRCA1 and BRCA2 that affect RNA splicing can be reliably selected by splice‐site prediction programs', 'null', 'null'], [3, datetime.datetime(2017, 9, 6, 16, 52, 23, 815654), 'sys', 0, 1, 'Assessing the RNA effect of 26 DNA variants in the BRCA1 and BRCA2 genes', 'null', 'null'], [4, datetime.datetime(2017, 9, 6, 16, 52, 23, 815654), 'sys', 0, 1, 'A review of a multifactorial probability‐based model for classification of BRCA1 and BRCA2 variants of uncertain significance (VUS)', 'null', 'null'], [5, datetime.datetime(2017, 9, 6, 16, 52, 23, 815654), 'sys', 0, 1, '[HTML][HTML] Comparative in vitro and in silico analyses of variants in splicing regions of BRCA1 and BRCA2 genes and characterization of novel pathogenic mutations', 'null', 'null'], [6, datetime.datetime(2017, 9, 6, 16, 52, 23, 815654), 'sys', 0, 1, '[HTML][HTML] Founder BRCA1/2 mutations in the Europe: implications for hereditary breast-ovarian cancer prevention and control', 'null', 'null'], [7, datetime.datetime(2017, 9, 6, 16, 52, 23, 815654), 'sys', 0, 1, '[HTML][HTML] Functional classification of BRCA2 DNA variants by splicing assays in a large minigene with 9 exons', 'null', 'null'], [8, datetime.datetime(2017, 9, 6, 16, 52, 23, 815654), 'sys', 0, 1, '[HTML][HTML] A de novo complete BRCA1 gene deletion identified in a Spanish woman with early bilateral breast cancer', 'null', 'null'], [9, datetime.datetime(2017, 9, 6, 16, 52, 23, 815654), 'sys', 0, 1, 'Characterisation of unclassified variants in the BRCA1/2 genes with a putative effect on splicing', 'null', 'null'], [10, datetime.datetime(2017, 9, 6, 16, 52, 23, 815654), 'sys', 0, 1, 'Guidelines for splicing analysis in molecular diagnosis derived from a set of 327 combined in silico/in vitro studies on BRCA1 and BRCA2 variants', 'null', 'null']]\n"
     ]
    }
   ],
   "source": [
    "search_lists =['BRCA2 c.8754+1G>A']\n",
    "google_scholar = 'https://scholar.google.com/scholar?q='\n",
    "for search_list in search_lists:\n",
    "    input_url = google_scholar + search_list\n",
    "    result_pages = requests.get(input_url).text\n",
    "    #print(result_pages)\n",
    "    soup = BeautifulSoup(result_pages, \"lxml\")\n",
    "    \n",
    "    #soup.find_all('h3')返回一个list，可以迭代出来\n",
    "    \n",
    "    article = []\n",
    "    sq_no = 0\n",
    "    created_user = 'sys'\n",
    "    deleted_flag = 0\n",
    "    article_id = 1\n",
    "    article_ref = 'null'\n",
    "    query_items ='null'\n",
    "    for item in soup.find_all('div',class_='gs_ri'):\n",
    "        #print(article.h3.get_text())\n",
    "        sq_no += 1\n",
    "        article_title = item.h3.get_text()\n",
    "        article_list = [sq_no,now,created_user, deleted_flag, article_id, article_title,\n",
    "                       article_ref, query_items]\n",
    "        article.append(article_list)\n",
    "        #article.append(tuple(sq_no, article_title)) dont work\n",
    "    print(article)\n",
    "    \n",
    "    #下面为使用正则表达式匹配\n",
    "    #nomal_match = r'<h3.*?<a href.*?>(.*?)</a>'\n",
    "    #pattern = re.compile(nomal_match, re.S)\n",
    "    \n",
    "    #items = re.findall(pattern, result_pages)\n",
    "    \n",
    "    #for item in items:\n",
    "        #article_list.append(item[0].strip().encode('utf-8'))\n",
    "        #print(item[0])"
   ]
  },
  {
   "cell_type": "code",
   "execution_count": 30,
   "metadata": {
    "collapsed": true
   },
   "outputs": [],
   "source": [
    "insert_to_article = \"INSERT INTO article VALUES(%s, %s, %s,%s, %s, %s,%s, %s)\""
   ]
  },
  {
   "cell_type": "code",
   "execution_count": 31,
   "metadata": {},
   "outputs": [],
   "source": [
    "cursor = db.cursor()\n",
    "cursor.executemany(insert_to_article, article)\n",
    "db.commit()"
   ]
  },
  {
   "cell_type": "code",
   "execution_count": null,
   "metadata": {
    "collapsed": true
   },
   "outputs": [],
   "source": []
  }
 ],
 "metadata": {
  "kernelspec": {
   "display_name": "Python [conda env:scrapy]",
   "language": "python",
   "name": "conda-env-scrapy-py"
  },
  "language_info": {
   "codemirror_mode": {
    "name": "ipython",
    "version": 3
   },
   "file_extension": ".py",
   "mimetype": "text/x-python",
   "name": "python",
   "nbconvert_exporter": "python",
   "pygments_lexer": "ipython3",
   "version": "3.6.2"
  }
 },
 "nbformat": 4,
 "nbformat_minor": 2
}
