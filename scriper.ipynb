{
 "cells": [
  {
   "cell_type": "code",
   "execution_count": 17,
   "metadata": {},
   "outputs": [],
   "source": [
    "# -*- coding: utf-8 -*-\n",
    "from selenium import webdriver\n",
    "from selenium.webdriver.common.keys import Keys\n",
    "import requests\n",
    "from bs4 import BeautifulSoup\n",
    "import re"
   ]
  },
  {
   "cell_type": "code",
   "execution_count": 32,
   "metadata": {},
   "outputs": [
    {
     "name": "stdout",
     "output_type": "stream",
     "text": [
      "Characterization of BRCA1 and BRCA2 splicing variants: a collaborative report by ENIGMA consortium members\n",
      "Intronic variants in BRCA1 and BRCA2 that affect RNA splicing can be reliably selected by splice‐site prediction programs\n",
      "Assessing the RNA effect of 26 DNA variants in the BRCA1 and BRCA2 genes\n",
      "A review of a multifactorial probability‐based model for classification of BRCA1 and BRCA2 variants of uncertain significance (VUS)\n",
      "[HTML][HTML] Comparative in vitro and in silico analyses of variants in splicing regions of BRCA1 and BRCA2 genes and characterization of novel pathogenic mutations\n",
      "[HTML][HTML] Founder BRCA1/2 mutations in the Europe: implications for hereditary breast-ovarian cancer prevention and control\n",
      "[HTML][HTML] Functional classification of BRCA2 DNA variants by splicing assays in a large minigene with 9 exons\n",
      "[HTML][HTML] A de novo complete BRCA1 gene deletion identified in a Spanish woman with early bilateral breast cancer\n",
      "Characterisation of unclassified variants in the BRCA1/2 genes with a putative effect on splicing\n",
      "Guidelines for splicing analysis in molecular diagnosis derived from a set of 327 combined in silico/in vitro studies on BRCA1 and BRCA2 variants\n"
     ]
    }
   ],
   "source": [
    "search_lists =['BRCA2 c.8754+1G>A']\n",
    "google_scholar = 'https://scholar.google.com/scholar?q='\n",
    "for search_list in search_lists:\n",
    "    input_url = google_scholar + search_list\n",
    "    result_pages = requests.get(input_url).text\n",
    "    #print(result_pages)\n",
    "    soup = BeautifulSoup(result_pages, \"lxml\")\n",
    "    \n",
    "    #soup.find_all('h3')返回一个list，可以迭代出来\n",
    "    \n",
    "    for article in soup.find_all('div',class_='gs_ri'):\n",
    "        print(article.h3.get_text())\n",
    "    \n",
    "    \n",
    "    \n",
    "    \n",
    "    \n",
    "    \n",
    "    \n",
    "    \n",
    "    \n",
    "    #下面为使用正则表达式匹配\n",
    "    #nomal_match = r'<h3.*?<a href.*?>(.*?)</a>'\n",
    "    #pattern = re.compile(nomal_match, re.S)\n",
    "    \n",
    "    #items = re.findall(pattern, result_pages)\n",
    "    \n",
    "    #for item in items:\n",
    "        #article_list.append(item[0].strip().encode('utf-8'))\n",
    "        #print(item[0])"
   ]
  },
  {
   "cell_type": "code",
   "execution_count": 11,
   "metadata": {
    "collapsed": true
   },
   "outputs": [],
   "source": []
  },
  {
   "cell_type": "code",
   "execution_count": null,
   "metadata": {
    "collapsed": true
   },
   "outputs": [],
   "source": []
  }
 ],
 "metadata": {
  "kernelspec": {
   "display_name": "Python 3",
   "language": "python",
   "name": "python3"
  },
  "language_info": {
   "codemirror_mode": {
    "name": "ipython",
    "version": 3
   },
   "file_extension": ".py",
   "mimetype": "text/x-python",
   "name": "python",
   "nbconvert_exporter": "python",
   "pygments_lexer": "ipython3",
   "version": "3.6.2"
  }
 },
 "nbformat": 4,
 "nbformat_minor": 2
}
