{
 "cells": [
  {
   "cell_type": "code",
   "execution_count": 46,
   "metadata": {},
   "outputs": [
    {
     "name": "stderr",
     "output_type": "stream",
     "text": [
      "C:\\ProgramData\\Anaconda3\\envs\\scrapy\\lib\\site-packages\\urllib3\\connectionpool.py:858: InsecureRequestWarning: Unverified HTTPS request is being made. Adding certificate verification is strongly advised. See: https://urllib3.readthedocs.io/en/latest/advanced-usage.html#ssl-warnings\n",
      "  InsecureRequestWarning)\n"
     ]
    },
    {
     "name": "stdout",
     "output_type": "stream",
     "text": [
      "https://pdfs.semanticscholar.org/4aec/d42e6407069abfe4e882011b78c2a19a0053.pdf\n",
      "PDF保存成功\n",
      "http://dns2.asia.edu.tw/~ysho/YSHO-English/1000%20China%20(Independent)/PDF/Lan%20Onc12,%20735.pdf\n",
      "PDF保存成功\n"
     ]
    }
   ],
   "source": [
    "import requests\n",
    "from bs4 import BeautifulSoup\n",
    "import pandas as pd\n",
    "from datetime import datetime\n",
    "import os\n",
    "import pymysql as ps\n",
    "import time\n",
    "\n",
    "\n",
    "class GooSpider():\n",
    "    def __init__(self, query_sting):\n",
    "        self.query_sting = query_sting\n",
    "        self.headers = {\n",
    "            'user-agent': 'Mozilla/5.0 (Windows NT 10.0; Win64; x64) AppleWebKit/537.36 (KHTML, like Gecko) Chrome/56.0.2924.87 Safari/537.36'\n",
    "        }\n",
    "        self.url = 'https://scholar.google.com.hk/scholar'\n",
    "\n",
    "    def _get_response(self):\n",
    "        \n",
    "\n",
    "        query_generator = {\n",
    "            \"hl\": \"zh-CN\",\n",
    "            \"q\": self.query_sting,\n",
    "            \"btnG\": \"\",\n",
    "            \"lr\": \"\"\n",
    "        }\n",
    "        response = requests.get(self.url, headers=self.headers, params=query_generator)  # proxies=proxies\n",
    "        html = response.text\n",
    "        return html\n",
    "\n",
    "    def get_articles(self):\n",
    "        soup = BeautifulSoup(self._get_response(), \"lxml\")\n",
    "        articles = []\n",
    "        for item in soup.find_all('div', class_='gs_r'):\n",
    "            article_title = item.h3.get_text().replace('[HTML][HTML] ', '')\n",
    "            ref_item = item.find('div', class_='gs_ggsd')\n",
    "            article_ref = ref_item.a.get('href') if ref_item else 'null'\n",
    "            citation = ''\n",
    "            article_list = [datetime.now(), article_title, article_ref, self.query_sting, citation]\n",
    "            articles.append(article_list)\n",
    "        #print(articles)\n",
    "        return articles\n",
    "    def get_pdf(self):\n",
    "        #print(self.get_articles()[0][2])\n",
    "        for i,li in enumerate(self.get_articles()):\n",
    "            \n",
    "            if 'pdf' in li[2]:\n",
    "                try:\n",
    "                    find_pdf = requests.get(li[2], headers=self.headers, verify = False).content \n",
    "                    pdf_name = li[1][0:20]\n",
    "                    print(li[2])\n",
    "                    root = 'D://'\n",
    "                    path = root + pdf_name\n",
    "                    time.sleep(10)\n",
    "                    with open(path+'.pdf', 'wb') as f:\n",
    "                        f.write(find_pdf)\n",
    "                        print('PDF保存成功')\n",
    "                        f.close()\n",
    "                except:\n",
    "                    print('有点问题')\n",
    "            \n",
    "        \n",
    "\n",
    "def insert_to_db(articles):\n",
    "    db_config = {\n",
    "        'host': '10.10.172.41',\n",
    "        'port': 3306,\n",
    "        'user': 'xj',\n",
    "        'password': 'xj3d',\n",
    "        'db': 'dspdw_dev',\n",
    "        'charset': 'utf8'\n",
    "    }\n",
    "    db = ps.connect(**db_config)\n",
    "    cursor = db.cursor()\n",
    "    print('数据库连接成功')\n",
    "    insert_to_article = \"INSERT INTO article VALUES(%s, %s, %s,%s, %s)\"\n",
    "    try:\n",
    "        cursor.executemany(insert_to_article, articles)\n",
    "        db.commit()\n",
    "        print('数据导入成功')\n",
    "    except:\n",
    "        db.rollback()\n",
    "        print('不知道哪儿出错')\n",
    "    cursor.close()\n",
    "    db.close()\n",
    "\n",
    "\n",
    "goo = GooSpider('egfr')\n",
    "articles = goo.get_pdf()"
   ]
  },
  {
   "cell_type": "code",
   "execution_count": 23,
   "metadata": {},
   "outputs": [
    {
     "name": "stdout",
     "output_type": "stream",
     "text": [
      "数据库连接成功\n",
      "数据导入成功\n"
     ]
    }
   ],
   "source": [
    "insert_to_db(articles)"
   ]
  },
  {
   "cell_type": "code",
   "execution_count": null,
   "metadata": {
    "collapsed": true
   },
   "outputs": [],
   "source": []
  }
 ],
 "metadata": {
  "kernelspec": {
   "display_name": "Python [conda env:scrapy]",
   "language": "python",
   "name": "conda-env-scrapy-py"
  },
  "language_info": {
   "codemirror_mode": {
    "name": "ipython",
    "version": 3
   },
   "file_extension": ".py",
   "mimetype": "text/x-python",
   "name": "python",
   "nbconvert_exporter": "python",
   "pygments_lexer": "ipython3",
   "version": "3.6.2"
  }
 },
 "nbformat": 4,
 "nbformat_minor": 2
}
